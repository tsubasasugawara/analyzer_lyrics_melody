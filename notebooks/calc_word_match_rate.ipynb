{
 "cells": [
  {
   "cell_type": "code",
   "execution_count": 1,
   "metadata": {},
   "outputs": [],
   "source": [
    "import os\n",
    "\n",
    "os.chdir(\"../\")"
   ]
  },
  {
   "cell_type": "code",
   "execution_count": 2,
   "metadata": {},
   "outputs": [],
   "source": [
    "from alm.lyrics import *\n",
    "from alm.melody import *\n",
    "from alm.comparator import *\n",
    "from alm.utils import util"
   ]
  },
  {
   "cell_type": "code",
   "execution_count": 3,
   "metadata": {},
   "outputs": [],
   "source": [
    "input_list = [\n",
    "    #[楽譜のXMLファイルのパス, タイムスパン木のXMLファイルのパス, セクション名]\n",
    "    [\"tests/files/popular/キセキ_A1.xml\", \"tests/files/popular/キセキ_A1_TS.xml\", \"キセキ_A1\"],\n",
    "    [\"tests/files/popular/キセキ_A2.xml\", \"tests/files/popular/キセキ_A2_TS.xml\", \"キセキ_A2\"],\n",
    "    [\"tests/files/popular/キセキ_S1.xml\", \"tests/files/popular/キセキ_S1_TS.xml\", \"キセキ_S1\"],\n",
    "    [\"tests/files/popular/キセキ_S2.xml\", \"tests/files/popular/キセキ_S2_TS.xml\", \"キセキ_S2\"],\n",
    "    [\"tests/files/popular/キセキ_S3.xml\", \"tests/files/popular/キセキ_S3_TS.xml\", \"キセキ_S3\"],\n",
    "    [\"tests/files/popular/愛唄_A1.xml\", \"tests/files/popular/愛唄_A1_TS.xml\", \"愛唄_A1\"],\n",
    "    [\"tests/files/popular/愛唄_A2.xml\", \"tests/files/popular/愛唄_A2_TS.xml\", \"愛唄_A2\"],\n",
    "    [\"tests/files/popular/愛唄_S1.xml\", \"tests/files/popular/愛唄_S1_TS.xml\", \"愛唄_S1\"],\n",
    "    [\"tests/files/popular/愛唄_S2.xml\", \"tests/files/popular/愛唄_S2_TS.xml\", \"愛唄_S2\"],\n",
    "    [\"tests/files/popular/花唄_A1.xml\", \"tests/files/popular/花唄_A1_TS.xml\", \"花唄_A1\"],\n",
    "    [\"tests/files/popular/花唄_A2.xml\", \"tests/files/popular/花唄_A2_TS.xml\", \"花唄_A2\"],\n",
    "    [\"tests/files/popular/花唄_S1.xml\", \"tests/files/popular/花唄_S1_TS.xml\", \"花唄_S1\"],\n",
    "    [\"tests/files/popular/花唄_S2.xml\", \"tests/files/popular/花唄_S2_TS.xml\", \"花唄_S2\"],\n",
    "    [\"tests/files/popular/オレンジ_A1.xml\", \"tests/files/popular/オレンジ_A1_TS.xml\", \"オレンジ_A1\"],\n",
    "    [\"tests/files/popular/オレンジ_A2.xml\", \"tests/files/popular/オレンジ_A2_TS.xml\", \"オレンジ_A2\"],\n",
    "    [\"tests/files/popular/オレンジ_S1.xml\", \"tests/files/popular/オレンジ_S1_TS.xml\", \"オレンジ_S1\"],\n",
    "    [\"tests/files/popular/オレンジ_S2.xml\", \"tests/files/popular/オレンジ_S2_TS.xml\", \"オレンジ_S2\"],\n",
    "    [\"tests/files/popular/オレンジ_S3.xml\", \"tests/files/popular/オレンジ_S3_TS.xml\", \"オレンジ_S3\"],\n",
    "    [\"tests/files/popular/オレンジ_S4.xml\", \"tests/files/popular/オレンジ_S4_TS.xml\", \"オレンジ_S4\"],\n",
    "    [\"tests/files/popular/遥か_A1.xml\", \"tests/files/popular/遥か_A1_TS.xml\", \"遥か_A1\"],\n",
    "    [\"tests/files/popular/遥か_A2.xml\", \"tests/files/popular/遥か_A2_TS.xml\", \"遥か_A2\"],\n",
    "    [\"tests/files/popular/遥か_A3.xml\", \"tests/files/popular/遥か_A3_TS.xml\", \"遥か_A3\"],\n",
    "    [\"tests/files/popular/遥か_A4.xml\", \"tests/files/popular/遥か_A4_TS.xml\", \"遥か_A4\"],\n",
    "    [\"tests/files/popular/遥か_S1.xml\", \"tests/files/popular/遥か_S1_TS.xml\", \"遥か_S1\"],\n",
    "    [\"tests/files/popular/遥か_S2.xml\", \"tests/files/popular/遥か_S2_TS.xml\", \"遥か_S2\"],\n",
    "    [\"tests/files/unpopular/beautiful_days_A1.xml\", \"tests/files/unpopular/beautiful_days_A1_TS.xml\", \"beautiful_days_A1\"],\n",
    "    [\"tests/files/unpopular/beautiful_days_A2.xml\", \"tests/files/unpopular/beautiful_days_A2_TS.xml\", \"beautiful_days_A2\"],\n",
    "    [\"tests/files/unpopular/beautiful_days_S1.xml\", \"tests/files/unpopular/beautiful_days_S1_TS.xml\", \"beautiful_days_S1\"],\n",
    "    [\"tests/files/unpopular/beautiful_days_S2.xml\", \"tests/files/unpopular/beautiful_days_S2_TS.xml\", \"beautiful_days_S2\"],\n",
    "    [\"tests/files/unpopular/ビリーヴ_A1.xml\", \"tests/files/unpopular/ビリーヴ_A1_TS.xml\", \"ビリーヴ_A1\"],\n",
    "    [\"tests/files/unpopular/ビリーヴ_A2.xml\", \"tests/files/unpopular/ビリーヴ_A2_TS.xml\", \"ビリーヴ_A2\"],\n",
    "    [\"tests/files/unpopular/ビリーヴ_S1.xml\", \"tests/files/unpopular/ビリーヴ_S1_TS.xml\", \"ビリーヴ_S1\"],\n",
    "    [\"tests/files/unpopular/ビリーヴ_S2.xml\", \"tests/files/unpopular/ビリーヴ_S2_TS.xml\", \"ビリーヴ_S2\"],\n",
    "    [\"tests/files/unpopular/たけてん_A1.xml\", \"tests/files/unpopular/たけてん_A1_TS.xml\", \"たけてん_A1\"],\n",
    "    [\"tests/files/unpopular/たけてん_A2.xml\", \"tests/files/unpopular/たけてん_A2_TS.xml\", \"たけてん_A2\"],\n",
    "    [\"tests/files/unpopular/たけてん_S1.xml\", \"tests/files/unpopular/たけてん_S1_TS.xml\", \"たけてん_S1\"],\n",
    "    [\"tests/files/unpopular/たけてん_S2.xml\", \"tests/files/unpopular/たけてん_S2_TS.xml\", \"たけてん_S2\"],\n",
    "    [\"tests/files/unpopular/人_A1.xml\", \"tests/files/unpopular/人_A1_TS.xml\", \"人_A1\"],\n",
    "    [\"tests/files/unpopular/人_A2.xml\", \"tests/files/unpopular/人_A2_TS.xml\", \"人_A2\"],\n",
    "    [\"tests/files/unpopular/人_S1.xml\", \"tests/files/unpopular/人_S1_TS.xml\", \"人_S1\"],\n",
    "    [\"tests/files/unpopular/人_S2.xml\", \"tests/files/unpopular/人_S2_TS.xml\", \"人_S2\"],\n",
    "    [\"tests/files/unpopular/蕾_S1.xml\", \"tests/files/unpopular/蕾_S1_TS.xml\", \"蕾_S1\"],\n",
    "    [\"tests/files/unpopular/蕾_S2.xml\", \"tests/files/unpopular/蕾_S2_TS.xml\", \"蕾_S2\"],\n",
    "    [\"tests/files/unpopular/蕾_S3.xml\", \"tests/files/unpopular/蕾_S3_TS.xml\", \"蕾_S3\"],\n",
    "]"
   ]
  },
  {
   "cell_type": "code",
   "execution_count": 4,
   "metadata": {},
   "outputs": [],
   "source": [
    "def calc_word_match_rate(input_list):\n",
    "    parser = grammar_parser.GrammarParser(\"ja_ginza\")\n",
    "\n",
    "    res = []\n",
    "\n",
    "    for ele in input_list:\n",
    "        lyrics_notes_map = lyrics_extractor.extract_lyrics(ele[0])\n",
    "        doc = parser.parse(lyrics_notes_map[lyrics_extractor.LYRICS_KEY])\n",
    "        lyrics_tree = parser.to_tree_map(doc)\n",
    "\n",
    "        words_notes_map = {}\n",
    "        associating_lyrics_melody.explore_words_in_tree(lyrics_tree, words_notes_map)\n",
    "        words_list = associating_lyrics_melody.associate_word_list_notes(words_notes_map, lyrics_notes_map)\n",
    "\n",
    "        melody_tree = time_span_tree.time_span_tree_to_dict(ele[1])\n",
    "\n",
    "        rate = word_match_rate_calculator.calc_word_match_rate(words_list, melody_tree)\n",
    "        rate .section_name = ele[2]\n",
    "\n",
    "        res.append([rate.section_name, rate.words_number, rate.match_words_number, rate.words_number - rate.match_words_number, rate.match_rate])\n",
    "    \n",
    "    return res"
   ]
  },
  {
   "cell_type": "code",
   "execution_count": 5,
   "metadata": {},
   "outputs": [],
   "source": [
    "res = calc_word_match_rate(input_list)\n",
    "util.output_csv(\"./notebooks/word_match_rate.csv\", [\"セクション名\", \"単語数\", \"一致した単語数\", \"一致しなかった単語数\", \"一致率\"], res)"
   ]
  }
 ],
 "metadata": {
  "kernelspec": {
   "display_name": "Python 3",
   "language": "python",
   "name": "python3"
  },
  "language_info": {
   "codemirror_mode": {
    "name": "ipython",
    "version": 3
   },
   "file_extension": ".py",
   "mimetype": "text/x-python",
   "name": "python",
   "nbconvert_exporter": "python",
   "pygments_lexer": "ipython3",
   "version": "3.11.3"
  },
  "orig_nbformat": 4
 },
 "nbformat": 4,
 "nbformat_minor": 2
}
