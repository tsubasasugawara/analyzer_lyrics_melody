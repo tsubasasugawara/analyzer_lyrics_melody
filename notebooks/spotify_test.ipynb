{
 "cells": [
  {
   "cell_type": "code",
   "execution_count": 1,
   "metadata": {},
   "outputs": [],
   "source": [
    "import spotipy\n",
    "from spotipy.oauth2 import SpotifyClientCredentials\n",
    "import os\n",
    "import pprint"
   ]
  },
  {
   "cell_type": "code",
   "execution_count": 2,
   "metadata": {},
   "outputs": [],
   "source": [
    "track_id = \"1WdkBwAsdznWw9xM69KmvR\"\n",
    "\n",
    "client_id = os.environ[\"SPOTIFY_CLIENT_ID\"]\n",
    "client_secret = os.environ[\"SPOTIFY_SECRET\"]\n",
    "client_credentials_manager = SpotifyClientCredentials(client_id, client_secret)\n",
    "spotify = spotipy.Spotify(client_credentials_manager=client_credentials_manager, language=\"ja\")"
   ]
  },
  {
   "cell_type": "code",
   "execution_count": 3,
   "metadata": {},
   "outputs": [
    {
     "name": "stdout",
     "output_type": "stream",
     "text": [
      "{'album': {'album_type': 'album',\n",
      "           'artists': [{'external_urls': {'spotify': 'https://open.spotify.com/artist/5YneEA2nLtAhkD5t2769lZ'},\n",
      "                        'href': 'https://api.spotify.com/v1/artists/5YneEA2nLtAhkD5t2769lZ',\n",
      "                        'id': '5YneEA2nLtAhkD5t2769lZ',\n",
      "                        'name': 'いきものがかり',\n",
      "                        'type': 'artist',\n",
      "                        'uri': 'spotify:artist:5YneEA2nLtAhkD5t2769lZ'}],\n",
      "           'external_urls': {'spotify': 'https://open.spotify.com/album/3ShWuYKtXk1fAqPbeVe8Dr'},\n",
      "           'href': 'https://api.spotify.com/v1/albums/3ShWuYKtXk1fAqPbeVe8Dr',\n",
      "           'id': '3ShWuYKtXk1fAqPbeVe8Dr',\n",
      "           'images': [{'height': 640,\n",
      "                       'url': 'https://i.scdn.co/image/ab67616d0000b273d4be0946ba3b18ec00d76266',\n",
      "                       'width': 640},\n",
      "                      {'height': 300,\n",
      "                       'url': 'https://i.scdn.co/image/ab67616d00001e02d4be0946ba3b18ec00d76266',\n",
      "                       'width': 300},\n",
      "                      {'height': 64,\n",
      "                       'url': 'https://i.scdn.co/image/ab67616d00004851d4be0946ba3b18ec00d76266',\n",
      "                       'width': 64}],\n",
      "           'is_playable': True,\n",
      "           'name': 'My song Your song',\n",
      "           'release_date': '2008-12-24',\n",
      "           'release_date_precision': 'day',\n",
      "           'total_tracks': 14,\n",
      "           'type': 'album',\n",
      "           'uri': 'spotify:album:3ShWuYKtXk1fAqPbeVe8Dr'},\n",
      " 'artists': [{'external_urls': {'spotify': 'https://open.spotify.com/artist/5YneEA2nLtAhkD5t2769lZ'},\n",
      "              'href': 'https://api.spotify.com/v1/artists/5YneEA2nLtAhkD5t2769lZ',\n",
      "              'id': '5YneEA2nLtAhkD5t2769lZ',\n",
      "              'name': 'いきものがかり',\n",
      "              'type': 'artist',\n",
      "              'uri': 'spotify:artist:5YneEA2nLtAhkD5t2769lZ'}],\n",
      " 'disc_number': 1,\n",
      " 'duration_ms': 218400,\n",
      " 'explicit': False,\n",
      " 'external_ids': {'isrc': 'JPES00801041'},\n",
      " 'external_urls': {'spotify': 'https://open.spotify.com/track/1WdkBwAsdznWw9xM69KmvR'},\n",
      " 'href': 'https://api.spotify.com/v1/tracks/1WdkBwAsdznWw9xM69KmvR',\n",
      " 'id': '1WdkBwAsdznWw9xM69KmvR',\n",
      " 'is_local': False,\n",
      " 'is_playable': True,\n",
      " 'name': 'ブルーバード',\n",
      " 'popularity': 58,\n",
      " 'preview_url': 'https://p.scdn.co/mp3-preview/f49584ebf30695bd316e07ff55d1a6fbedd4ae4c?cid=53174b600eb74beab62265401ec283dd',\n",
      " 'track_number': 3,\n",
      " 'type': 'track',\n",
      " 'uri': 'spotify:track:1WdkBwAsdznWw9xM69KmvR'}\n"
     ]
    }
   ],
   "source": [
    "results = spotify.track(track_id, market=\"JP\")\n",
    "pprint.pprint(results)"
   ]
  }
 ],
 "metadata": {
  "kernelspec": {
   "display_name": "Python 3",
   "language": "python",
   "name": "python3"
  },
  "language_info": {
   "codemirror_mode": {
    "name": "ipython",
    "version": 3
   },
   "file_extension": ".py",
   "mimetype": "text/x-python",
   "name": "python",
   "nbconvert_exporter": "python",
   "pygments_lexer": "ipython3",
   "version": "3.11.4"
  },
  "orig_nbformat": 4
 },
 "nbformat": 4,
 "nbformat_minor": 2
}
