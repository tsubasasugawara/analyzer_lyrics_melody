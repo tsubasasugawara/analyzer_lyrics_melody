{
    "cells": [
        {
            "cell_type": "code",
            "execution_count": null,
            "metadata": {
                "id": "c3W7FubWVE5q"
            },
            "outputs": [],
            "source": [
                "from alm.nlp import util\n",
                "from alm.nlp import punctuation\n",
                "from alm.nlp import load_model\n",
                "\n",
                "nlp = load_model.load_ginza()\n",
                "\n",
                "def add_punctuation(songs):\n",
                "    for song_name in songs:\n",
                "        for section in songs[song_name]:\n",
                "            text = songs[song_name][section]\n",
                "            songs[song_name][section] = punctuation.add_punctuation(nlp, text)\n",
                "    return songs\n",
                "\n",
                "dir_path = './json/1_input/'\n",
                "file_list = util.get_file_list(dir_path)\n",
                "\n",
                "for path in file_list:\n",
                "    data = util.read_json(path)\n",
                "    artist = util.get_file_name(path)\n",
                "\n",
                "    popular = add_punctuation(data['popular'])\n",
                "    unpopular = add_punctuation(data['unpopular'])\n",
                "\n",
                "    # output_dir = './json/2_edited/'\n",
                "    # util.output_json(f\"{output_dir}/popular/{artist}.json\", popular)\n",
                "    # util.output_json(f\"{output_dir}/unpopular/{artist}.json\", unpopular)\n",
                "\n",
                "    util.output_json(f\"{dir_path}/test/{artist}_popular_test.json\", popular)\n",
                "    util.output_json(f\"{dir_path}/test/{artist}_unpopular_test.json\", unpopular)"
            ]
        }
    ],
    "metadata": {
        "accelerator": "GPU",
        "colab": {
            "authorship_tag": "ABX9TyNOsWmzkrpleL4O9z6mYjW9",
            "provenance": []
        },
        "gpuClass": "standard",
        "kernelspec": {
            "display_name": "Python 3 (ipykernel)",
            "language": "python",
            "name": "python3"
        },
        "language_info": {
            "codemirror_mode": {
                "name": "ipython",
                "version": 3
            },
            "file_extension": ".py",
            "mimetype": "text/x-python",
            "name": "python",
            "nbconvert_exporter": "python",
            "pygments_lexer": "ipython3",
            "version": "3.11.3"
        }
    },
    "nbformat": 4,
    "nbformat_minor": 4
}
